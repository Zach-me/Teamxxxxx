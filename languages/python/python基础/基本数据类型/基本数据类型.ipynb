{
 "cells": [
  {
   "cell_type": "code",
   "execution_count": 1,
   "id": "0208e2cd-b310-4d8a-ab82-16dc0049ef79",
   "metadata": {},
   "outputs": [
    {
     "data": {
      "text/plain": [
       "9"
      ]
     },
     "execution_count": 1,
     "metadata": {},
     "output_type": "execute_result"
    }
   ],
   "source": [
    "5 + 4"
   ]
  },
  {
   "cell_type": "code",
   "execution_count": 2,
   "id": "4d92237c-91bb-470e-a175-8b70883ec3f4",
   "metadata": {},
   "outputs": [
    {
     "data": {
      "text/plain": [
       "2.3"
      ]
     },
     "execution_count": 2,
     "metadata": {},
     "output_type": "execute_result"
    }
   ],
   "source": [
    "4.3 - 2"
   ]
  },
  {
   "cell_type": "code",
   "execution_count": 3,
   "id": "ff607060-dcd8-4842-9f7b-47c0ae287754",
   "metadata": {},
   "outputs": [
    {
     "data": {
      "text/plain": [
       "21"
      ]
     },
     "execution_count": 3,
     "metadata": {},
     "output_type": "execute_result"
    }
   ],
   "source": [
    "3 * 7"
   ]
  },
  {
   "cell_type": "code",
   "execution_count": 4,
   "id": "d7690021-1bef-4ccf-af05-3e70ce4e4622",
   "metadata": {},
   "outputs": [
    {
     "data": {
      "text/plain": [
       "0.5"
      ]
     },
     "execution_count": 4,
     "metadata": {},
     "output_type": "execute_result"
    }
   ],
   "source": [
    "2 / 4"
   ]
  },
  {
   "cell_type": "code",
   "execution_count": 5,
   "id": "5899e1b1-b875-4421-b9ae-9877debf370b",
   "metadata": {},
   "outputs": [
    {
     "data": {
      "text/plain": [
       "0"
      ]
     },
     "execution_count": 5,
     "metadata": {},
     "output_type": "execute_result"
    }
   ],
   "source": [
    "2 // 4"
   ]
  },
  {
   "cell_type": "code",
   "execution_count": 6,
   "id": "5a2c5982-332b-46e5-b9c2-3534e6c5a2c8",
   "metadata": {},
   "outputs": [
    {
     "data": {
      "text/plain": [
       "2"
      ]
     },
     "execution_count": 6,
     "metadata": {},
     "output_type": "execute_result"
    }
   ],
   "source": [
    "17 % 3 # 取余"
   ]
  },
  {
   "cell_type": "code",
   "execution_count": 7,
   "id": "b4c0abad-a9ec-47cc-8b27-55e5df2b504d",
   "metadata": {},
   "outputs": [
    {
     "data": {
      "text/plain": [
       "32"
      ]
     },
     "execution_count": 7,
     "metadata": {},
     "output_type": "execute_result"
    }
   ],
   "source": [
    "2 ** 5 # 乘方"
   ]
  },
  {
   "cell_type": "code",
   "execution_count": 14,
   "id": "f1ff969b-d463-4392-8e9d-14190b978c96",
   "metadata": {},
   "outputs": [
    {
     "name": "stdout",
     "output_type": "stream",
     "text": [
      "matrix\n",
      "matri\n",
      "m\n",
      "tri\n",
      "trix\n",
      "matrixmatrix\n",
      "matrixTEST\n"
     ]
    }
   ],
   "source": [
    "#!/usr/bin/python3\n",
    "\n",
    "str = 'matrix'\n",
    "\n",
    "print(str) # 输出字符串\n",
    "print(str[0:-1])# 输出第一个到倒数第二个的所有字符\n",
    "print(str[0])# 输出字符串第一个字符\n",
    "print(str[2:5])# 输出从第三个开始到第五个的字符\n",
    "print(str[2:])# 输出从第三个开始的后的所有字符\n",
    "print(str * 2)# 输出字符串两次，也可以写成 print (2 * str) \n",
    "print(str + \"TEST\")# 连接字符串"
   ]
  },
  {
   "cell_type": "code",
   "execution_count": 17,
   "id": "606c46d8-7cdf-4e5d-8930-8638df75d299",
   "metadata": {},
   "outputs": [
    {
     "name": "stdout",
     "output_type": "stream",
     "text": [
      "matr\n",
      "ix\n",
      "matrix\\n\n"
     ]
    }
   ],
   "source": [
    "print('matr\\nix')\n",
    "print(r'matrix\\n')"
   ]
  },
  {
   "cell_type": "code",
   "execution_count": 19,
   "id": "8b2520dc-d8cd-447e-8653-7e684ac49100",
   "metadata": {},
   "outputs": [
    {
     "name": "stdout",
     "output_type": "stream",
     "text": [
      "P n\n",
      "n P\n"
     ]
    }
   ],
   "source": [
    "word = 'Python'\n",
    "print(word[0], word[5])\n",
    "print(word[-1], word[-6])"
   ]
  },
  {
   "cell_type": "code",
   "execution_count": 2,
   "id": "ae208f93-c066-4695-9f94-e415687592ca",
   "metadata": {},
   "outputs": [
    {
     "name": "stdout",
     "output_type": "stream",
     "text": [
      "True\n",
      "False\n",
      "False\n",
      "True\n",
      "False\n",
      "1\n",
      "0.0\n",
      "True\n"
     ]
    }
   ],
   "source": [
    "a = True\n",
    "b = False\n",
    "\n",
    "# 比较运算符\n",
    "print(3 < 4) # True\n",
    "print(2 > 3) # False\n",
    "\n",
    "# 逻辑运算符\n",
    "print(a and b)\n",
    "print(a or b)\n",
    "print(not a)\n",
    "\n",
    "# 类型转换\n",
    "print(int(a))\n",
    "print(float(b))\n",
    "print(str(a)) # \"True\" 在 jupyter 里面会报错\n"
   ]
  },
  {
   "cell_type": "code",
   "execution_count": 1,
   "id": "6b5dcae0-794f-42de-b899-256d77e9574d",
   "metadata": {},
   "outputs": [
    {
     "name": "stdout",
     "output_type": "stream",
     "text": [
      "jupyter\n"
     ]
    }
   ],
   "source": [
    "print(\"jupyter\")"
   ]
  },
  {
   "cell_type": "code",
   "execution_count": 4,
   "id": "256d3378",
   "metadata": {},
   "outputs": [
    {
     "name": "stdout",
     "output_type": "stream",
     "text": [
      "[1, 2, 3, 4, 5]\n",
      "2\n",
      "[2, 3]\n",
      "[3, 4]\n",
      "[1, 2, 3, 4, 5, 'water', 'melon']\n",
      "['water', 'melon', 'water', 'melon']\n"
     ]
    }
   ],
   "source": [
    "# List 列表\n",
    "list = [1,2,3,4,5]\n",
    "tinylist = ['water', 'melon']\n",
    "print(list)\n",
    "print(list[1])\n",
    "print(list[1:3])\n",
    "print(list[2:-1])\n",
    "print(list + tinylist)\n",
    "print(tinylist * 2)"
   ]
  },
  {
   "cell_type": "code",
   "execution_count": 7,
   "id": "d70267b8",
   "metadata": {},
   "outputs": [
    {
     "name": "stdout",
     "output_type": "stream",
     "text": [
      "[2, 2, 3, 4, 5, 6, 7, 8]\n",
      "[2, 2, 12, 13, 14, 6, 7, 8]\n",
      "[2, 2, 6, 7, 8]\n"
     ]
    }
   ],
   "source": [
    "# 与字符串不同的是，列表中的元素是可以改变的\n",
    "list = [1,2,3,4,5,6,7,8]\n",
    "list[0] = 2\n",
    "print(list)\n",
    "list[2:5] = [12,13,14]\n",
    "print(list)\n",
    "list[2:5] = [] # 置空 2:5\n",
    "print(list)"
   ]
  },
  {
   "cell_type": "code",
   "execution_count": 10,
   "id": "10c44c01",
   "metadata": {},
   "outputs": [
    {
     "name": "stdout",
     "output_type": "stream",
     "text": [
      "Python like I\n"
     ]
    }
   ],
   "source": [
    "# 翻转字符串\n",
    "def reverseWords(input):\n",
    "    # 通过空格将字符串分割\n",
    "    inputWords = input.split(\" \")\n",
    "    inputWords = inputWords[-1::-1]\n",
    "    output = ' '.join(inputWords)\n",
    "    return output\n",
    "input = \"I like Python\"\n",
    "print(reverseWords(input))"
   ]
  },
  {
   "cell_type": "markdown",
   "id": "19b4dd46",
   "metadata": {},
   "source": [
    "## Tuple(元组)\n",
    "在这里开始学会了 jupyter 的好用的地方，可以加 markdown 和代码"
   ]
  },
  {
   "cell_type": "code",
   "execution_count": 16,
   "id": "cd468d64",
   "metadata": {},
   "outputs": [
    {
     "name": "stdout",
     "output_type": "stream",
     "text": [
      "1\n",
      "(2, 'a')\n",
      "('a', 3, 'b')\n",
      "(1, 2, 'a', 3)\n",
      "b\n",
      "(4, 'c', 4, 'c')\n",
      "(1, 2, 'a', 3, 'b', 4, 'c')\n"
     ]
    }
   ],
   "source": [
    "# Tuple(元组)\n",
    "tuple = (1,2,'a',3,'b')\n",
    "tinytuple = (4,'c')\n",
    "print(tuple[0])\n",
    "print(tuple[1:3])\n",
    "print(tuple[2:5])\n",
    "print(tuple[0:-1])\n",
    "print(tuple[-1])\n",
    "print(tinytuple * 2)\n",
    "print(tuple + tinytuple)"
   ]
  },
  {
   "cell_type": "code",
   "execution_count": null,
   "id": "f35a9729",
   "metadata": {},
   "outputs": [],
   "source": []
  },
  {
   "cell_type": "markdown",
   "id": "4bf75e5f",
   "metadata": {},
   "source": []
  }
 ],
 "metadata": {
  "kernelspec": {
   "display_name": "Python 3 (ipykernel)",
   "language": "python",
   "name": "python3"
  },
  "language_info": {
   "codemirror_mode": {
    "name": "ipython",
    "version": 3
   },
   "file_extension": ".py",
   "mimetype": "text/x-python",
   "name": "python",
   "nbconvert_exporter": "python",
   "pygments_lexer": "ipython3",
   "version": "3.9.6"
  }
 },
 "nbformat": 4,
 "nbformat_minor": 5
}
