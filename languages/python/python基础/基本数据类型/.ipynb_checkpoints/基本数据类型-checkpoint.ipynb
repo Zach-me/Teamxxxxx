{
 "cells": [
  {
   "cell_type": "code",
   "execution_count": 1,
   "id": "0208e2cd-b310-4d8a-ab82-16dc0049ef79",
   "metadata": {},
   "outputs": [
    {
     "data": {
      "text/plain": [
       "9"
      ]
     },
     "execution_count": 1,
     "metadata": {},
     "output_type": "execute_result"
    }
   ],
   "source": [
    "5 + 4"
   ]
  },
  {
   "cell_type": "code",
   "execution_count": 2,
   "id": "4d92237c-91bb-470e-a175-8b70883ec3f4",
   "metadata": {},
   "outputs": [
    {
     "data": {
      "text/plain": [
       "2.3"
      ]
     },
     "execution_count": 2,
     "metadata": {},
     "output_type": "execute_result"
    }
   ],
   "source": [
    "4.3 - 2"
   ]
  },
  {
   "cell_type": "code",
   "execution_count": 3,
   "id": "ff607060-dcd8-4842-9f7b-47c0ae287754",
   "metadata": {},
   "outputs": [
    {
     "data": {
      "text/plain": [
       "21"
      ]
     },
     "execution_count": 3,
     "metadata": {},
     "output_type": "execute_result"
    }
   ],
   "source": [
    "3 * 7"
   ]
  },
  {
   "cell_type": "code",
   "execution_count": 4,
   "id": "d7690021-1bef-4ccf-af05-3e70ce4e4622",
   "metadata": {},
   "outputs": [
    {
     "data": {
      "text/plain": [
       "0.5"
      ]
     },
     "execution_count": 4,
     "metadata": {},
     "output_type": "execute_result"
    }
   ],
   "source": [
    "2 / 4"
   ]
  },
  {
   "cell_type": "code",
   "execution_count": 5,
   "id": "5899e1b1-b875-4421-b9ae-9877debf370b",
   "metadata": {},
   "outputs": [
    {
     "data": {
      "text/plain": [
       "0"
      ]
     },
     "execution_count": 5,
     "metadata": {},
     "output_type": "execute_result"
    }
   ],
   "source": [
    "2 // 4"
   ]
  },
  {
   "cell_type": "code",
   "execution_count": 6,
   "id": "5a2c5982-332b-46e5-b9c2-3534e6c5a2c8",
   "metadata": {},
   "outputs": [
    {
     "data": {
      "text/plain": [
       "2"
      ]
     },
     "execution_count": 6,
     "metadata": {},
     "output_type": "execute_result"
    }
   ],
   "source": [
    "17 % 3 # 取余"
   ]
  },
  {
   "cell_type": "code",
   "execution_count": 7,
   "id": "b4c0abad-a9ec-47cc-8b27-55e5df2b504d",
   "metadata": {},
   "outputs": [
    {
     "data": {
      "text/plain": [
       "32"
      ]
     },
     "execution_count": 7,
     "metadata": {},
     "output_type": "execute_result"
    }
   ],
   "source": [
    "2 ** 5 # 乘方"
   ]
  },
  {
   "cell_type": "code",
   "execution_count": 14,
   "id": "f1ff969b-d463-4392-8e9d-14190b978c96",
   "metadata": {},
   "outputs": [
    {
     "name": "stdout",
     "output_type": "stream",
     "text": [
      "matrix\n",
      "matri\n",
      "m\n",
      "tri\n",
      "trix\n",
      "matrixmatrix\n",
      "matrixTEST\n"
     ]
    }
   ],
   "source": [
    "#!/usr/bin/python3\n",
    "\n",
    "str = 'matrix'\n",
    "\n",
    "print(str) # 输出字符串\n",
    "print(str[0:-1])# 输出第一个到倒数第二个的所有字符\n",
    "print(str[0])# 输出字符串第一个字符\n",
    "print(str[2:5])# 输出从第三个开始到第五个的字符\n",
    "print(str[2:])# 输出从第三个开始的后的所有字符\n",
    "print(str * 2)# 输出字符串两次，也可以写成 print (2 * str) \n",
    "print(str + \"TEST\")# 连接字符串"
   ]
  },
  {
   "cell_type": "code",
   "execution_count": 17,
   "id": "606c46d8-7cdf-4e5d-8930-8638df75d299",
   "metadata": {},
   "outputs": [
    {
     "name": "stdout",
     "output_type": "stream",
     "text": [
      "matr\n",
      "ix\n",
      "matrix\\n\n"
     ]
    }
   ],
   "source": [
    "print('matr\\nix')\n",
    "print(r'matrix\\n')"
   ]
  },
  {
   "cell_type": "code",
   "execution_count": 19,
   "id": "8b2520dc-d8cd-447e-8653-7e684ac49100",
   "metadata": {},
   "outputs": [
    {
     "name": "stdout",
     "output_type": "stream",
     "text": [
      "P n\n",
      "n P\n"
     ]
    }
   ],
   "source": [
    "word = 'Python'\n",
    "print(word[0], word[5])\n",
    "print(word[-1], word[-6])"
   ]
  },
  {
   "cell_type": "code",
   "execution_count": 25,
   "id": "ae208f93-c066-4695-9f94-e415687592ca",
   "metadata": {},
   "outputs": [
    {
     "name": "stdout",
     "output_type": "stream",
     "text": [
      "True\n",
      "False\n",
      "False\n",
      "True\n",
      "False\n",
      "1\n",
      "0.0\n"
     ]
    },
    {
     "ename": "TypeError",
     "evalue": "'str' object is not callable",
     "output_type": "error",
     "traceback": [
      "\u001b[0;31m---------------------------------------------------------------------------\u001b[0m",
      "\u001b[0;31mTypeError\u001b[0m                                 Traceback (most recent call last)",
      "Cell \u001b[0;32mIn[25], line 16\u001b[0m\n\u001b[1;32m     14\u001b[0m \u001b[38;5;28mprint\u001b[39m(\u001b[38;5;28mint\u001b[39m(a))\n\u001b[1;32m     15\u001b[0m \u001b[38;5;28mprint\u001b[39m(\u001b[38;5;28mfloat\u001b[39m(b))\n\u001b[0;32m---> 16\u001b[0m \u001b[38;5;28mprint\u001b[39m(\u001b[38;5;28;43mstr\u001b[39;49m\u001b[43m(\u001b[49m\u001b[43m)\u001b[49m)\n",
      "\u001b[0;31mTypeError\u001b[0m: 'str' object is not callable"
     ]
    }
   ],
   "source": [
    "a = True\n",
    "b = False\n",
    "\n",
    "# 比较运算符\n",
    "print(3 < 4) # True\n",
    "print(2 > 3) # False\n",
    "\n",
    "# 逻辑运算符\n",
    "print(a and b)\n",
    "print(a or b)\n",
    "print(not a)\n",
    "\n",
    "# 类型转换\n",
    "print(int(a))\n",
    "print(float(b))\n",
    "print(str(a)) # \"True\" 在 jupyter 里面会报错\n"
   ]
  },
  {
   "cell_type": "code",
   "execution_count": null,
   "id": "6b5dcae0-794f-42de-b899-256d77e9574d",
   "metadata": {},
   "outputs": [],
   "source": []
  }
 ],
 "metadata": {
  "kernelspec": {
   "display_name": "Python 3 (ipykernel)",
   "language": "python",
   "name": "python3"
  },
  "language_info": {
   "codemirror_mode": {
    "name": "ipython",
    "version": 3
   },
   "file_extension": ".py",
   "mimetype": "text/x-python",
   "name": "python",
   "nbconvert_exporter": "python",
   "pygments_lexer": "ipython3",
   "version": "3.9.6"
  }
 },
 "nbformat": 4,
 "nbformat_minor": 5
}
